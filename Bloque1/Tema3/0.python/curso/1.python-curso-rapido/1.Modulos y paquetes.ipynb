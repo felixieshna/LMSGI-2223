{
 "cells": [
  {
   "cell_type": "markdown",
   "id": "9a98130e",
   "metadata": {},
   "source": [
    "## Módulos y paquetes\n",
    "### Módulos\n",
    "Un módulo es un archivo de Python cuyos objetos (funciones, clases, excepciones, etc.) pueden ser accedidos desde otro archivo. Se trata simplemente de una forma de organizar grandes códigos.\n",
    "\n",
    "Consideremos, por ejemplo, un archivo aritmetica.py que contenga las siguientes definiciones.\n"
   ]
  },
  {
   "cell_type": "code",
   "execution_count": 1,
   "id": "342f0dc7",
   "metadata": {},
   "outputs": [],
   "source": [
    "def sumar(a, b):\n",
    "    return a + b\n",
    "\n",
    "def restar(a, b):\n",
    "    return a - b\n",
    "\n",
    "def mult(a, b):\n",
    "    return a * b\n",
    "\n",
    "def div(a, b):\n",
    "    return a / b"
   ]
  },
  {
   "cell_type": "markdown",
   "id": "23ed245b",
   "metadata": {},
   "source": [
    "Podemos acceder a ellas desde otro archivo de Python ubicado en la misma ruta importando el módulo."
   ]
  },
  {
   "cell_type": "code",
   "execution_count": 3,
   "id": "7d78d016",
   "metadata": {},
   "outputs": [
    {
     "name": "stdout",
     "output_type": "stream",
     "text": [
      "12\n"
     ]
    }
   ],
   "source": [
    "import aritmetica\n",
    "\n",
    "print(aritmetica.sumar(7, 5))"
   ]
  },
  {
   "cell_type": "markdown",
   "id": "f48cabb2",
   "metadata": {},
   "source": [
    "Una sintaxis alternativa para importar objetos desde un módulo es la siguiente."
   ]
  },
  {
   "cell_type": "code",
   "execution_count": 5,
   "id": "da659e94",
   "metadata": {},
   "outputs": [
    {
     "name": "stdout",
     "output_type": "stream",
     "text": [
      "12\n"
     ]
    }
   ],
   "source": [
    "from aritmetica import sumar\n",
    "\n",
    "print(sumar(7, 5))"
   ]
  },
  {
   "cell_type": "markdown",
   "id": "d53b998b",
   "metadata": {},
   "source": [
    "Nótese que, en este segundo caso, no se prefija el nombre del módulo al invocar al objeto importado. Podemos importar varios objetos separándolos por comas."
   ]
  },
  {
   "cell_type": "code",
   "execution_count": 7,
   "id": "29f7e7b7",
   "metadata": {},
   "outputs": [
    {
     "name": "stdout",
     "output_type": "stream",
     "text": [
      "12\n",
      "2\n",
      "35\n",
      "1.4\n"
     ]
    }
   ],
   "source": [
    "from aritmetica import sumar, restar, mult, div\n",
    "\n",
    "print(sumar(7, 5))\n",
    "print(restar(7, 5))\n",
    "print(mult(7, 5))\n",
    "print(div(7, 5))"
   ]
  },
  {
   "cell_type": "markdown",
   "id": "8810d2d0",
   "metadata": {},
   "source": [
    "O bien, para importar todos los objetos dentro de un módulo:"
   ]
  },
  {
   "cell_type": "code",
   "execution_count": 8,
   "id": "bd52da87",
   "metadata": {},
   "outputs": [],
   "source": [
    "from aritmetica import *"
   ]
  },
  {
   "cell_type": "markdown",
   "id": "fc742322",
   "metadata": {},
   "source": [
    "Podemos hacer que un módulo esté visible para cualquier archivo ubicándolo en la carpeta Lib dentro del directorio de instalación de Python (e.g. C:\\Python36\\Lib).\n",
    "\n",
    "Paquetes\n",
    "Un paquete es una carpeta que contiene varios módulos. Siguiendo el ejemplo anterior, podemos diseñar un paquete matematica creando una carpeta con la siguiente estructura.\n",
    "\n",
    "matematica<br/>\n",
    "    |-- __init__.py<br/>\n",
    "    |-- aritmetica.py<br/>\n",
    "    |-- geometria.py<br/>\n",
    "    \n",
    "Debe contener siempre un archivo __init__.py (por el momento vacío) para que Python entienda que se trata de un paquete y no de una simple carpeta. Así, podemos acceder a alguno de los módulos del paquete de la siguiente manera."
   ]
  },
  {
   "cell_type": "code",
   "execution_count": 10,
   "id": "8135c1f1",
   "metadata": {},
   "outputs": [
    {
     "name": "stdout",
     "output_type": "stream",
     "text": [
      "12\n"
     ]
    }
   ],
   "source": [
    "import matematica.aritmetica\n",
    "\n",
    "print(matematica.aritmetica.sumar(7, 5))"
   ]
  },
  {
   "cell_type": "markdown",
   "id": "bc1e5553",
   "metadata": {},
   "source": [
    "O bien de la siguiente."
   ]
  },
  {
   "cell_type": "code",
   "execution_count": 11,
   "id": "8cef6846",
   "metadata": {},
   "outputs": [
    {
     "name": "stdout",
     "output_type": "stream",
     "text": [
      "12\n"
     ]
    }
   ],
   "source": [
    "from matematica import aritmetica\n",
    "\n",
    "print(aritmetica.sumar(7, 5))"
   ]
  },
  {
   "cell_type": "markdown",
   "id": "427e1ca3",
   "metadata": {},
   "source": [
    "También, esta otra:"
   ]
  },
  {
   "cell_type": "code",
   "execution_count": 12,
   "id": "a25f92bb",
   "metadata": {},
   "outputs": [
    {
     "name": "stdout",
     "output_type": "stream",
     "text": [
      "12\n"
     ]
    }
   ],
   "source": [
    "from matematica.aritmetica import sumar\n",
    "\n",
    "print(sumar(7, 5))"
   ]
  },
  {
   "cell_type": "markdown",
   "id": "be503fc1",
   "metadata": {},
   "source": [
    "Python incluye una inmensa cantidad de módulos y paquetes en su instalación (aún más grande es aquella desarrollada por la comunidad, de la que hablaremos más adelante), a los que se conoce como librería estándar. Ahora que sabemos cómo trabajar con ellos, sopesemos esta cuestión"
   ]
  },
  {
   "cell_type": "markdown",
   "id": "76641250",
   "metadata": {},
   "source": [
    "## Librería estándar\n",
    "La librería estándar es un conjunto de módulos y paquetes que se distribuyen junto con Python. Muchas de las operaciones más comúnes de la programación diaria ya están implementadas en ella, de modo que podemos concentrarnos en lo que realmente nos ocupa. Encontrarás la lista de todos los módulos y paquetes junto con su documentación en docs.python.org.\n",
    "\n",
    "Por ejemplo, el módulo math contiene una colección de operaciones matemáticas comúnes.\n",
    "\n"
   ]
  },
  {
   "cell_type": "code",
   "execution_count": 13,
   "id": "4df70014",
   "metadata": {},
   "outputs": [
    {
     "name": "stdout",
     "output_type": "stream",
     "text": [
      "4.0\n"
     ]
    }
   ],
   "source": [
    "import math\n",
    "\n",
    "# Raíz cuadrada.\n",
    "print(math.sqrt(16))"
   ]
  },
  {
   "cell_type": "markdown",
   "id": "3dc64d75",
   "metadata": {},
   "source": [
    "O bien random, que implementa funciones para trabajar con números aleatorios."
   ]
  },
  {
   "cell_type": "code",
   "execution_count": 14,
   "id": "fdd8c0f1",
   "metadata": {},
   "outputs": [
    {
     "name": "stdout",
     "output_type": "stream",
     "text": [
      "7\n",
      "Python\n"
     ]
    }
   ],
   "source": [
    "from random import randint, choice\n",
    "\n",
    "# Número aleatorio entre 1 y 10.\n",
    "print(randint(1, 10))\n",
    "# Retorna un elemento aleatorio de la lista.\n",
    "print(choice([\"Python\", \"C\", \"C++\", \"Java\"]))"
   ]
  },
  {
   "cell_type": "markdown",
   "id": "d92a36f1",
   "metadata": {},
   "source": [
    "Recuerda que tienes a tu disposición la función help(), ideal para ser empleada en la consola interactiva cuando quieras saber qué hace una función o cómo utilizarla. ¡Toda la librería estándar está ampliamente documentada!\n",
    "\n",
    "### Instalando módulos de terceros\n",
    "Como decíamos en la sección anterior, aún más grande es la colección de módulos y paquetes desarrollados por la enorme comunidad de programadores de Python en todo el mundo. Algunos de ellos tienen su propio lugar en internet, pero la mayoría está alojada en PyPI (Python Package Index).\n",
    "\n",
    "Cada uno de estos paquetes está identificado por un nombre. Para instalar alguno de ellos, utilizaremos una herramienta llamada pip que se incluye con la instalación de Python. El comando es, entonces, el siguiente.\n",
    "\n",
    "\n",
    "    pip install paquete\n",
    "\n",
    "Por ejemplo, para instalar Requests, el paquete más famoso de Python que permite interactuar con servicios HTTP:\n",
    "\n",
    "    pip install requests\n",
    "    \n",
    "Si tu sistema no reconoce el comando pip, intenta lo siguiente.\n",
    "\n",
    "    python -m pip install requests\n",
    "    \n",
    "Si aún no tienes suerte, chequea el siguiente artículo para saber cómo solucionarlo: Instalación y utilización de pip en Windows, Linux y OS X.\n",
    "\n",
    "Por último confirma que el paquete se ha instalado correctamente desde la consola interactiva."
   ]
  },
  {
   "cell_type": "code",
   "execution_count": 17,
   "id": "c4da502c",
   "metadata": {},
   "outputs": [
    {
     "data": {
      "text/plain": [
       "<Response [200]>"
      ]
     },
     "execution_count": 17,
     "metadata": {},
     "output_type": "execute_result"
    }
   ],
   "source": [
    "import requests\n",
    "requests.get(\"https://www.google.com/\")"
   ]
  },
  {
   "cell_type": "markdown",
   "id": "a0ff83d7",
   "metadata": {},
   "source": [
    "¡Excelente! Ya sabemos cómo instalar paquetes desarrollados por la comunidad para utilizarlos en nuestros programas."
   ]
  },
  {
   "cell_type": "code",
   "execution_count": null,
   "id": "d03740f8",
   "metadata": {},
   "outputs": [],
   "source": []
  }
 ],
 "metadata": {
  "kernelspec": {
   "display_name": "Python 3",
   "language": "python",
   "name": "python3"
  },
  "language_info": {
   "codemirror_mode": {
    "name": "ipython",
    "version": 3
   },
   "file_extension": ".py",
   "mimetype": "text/x-python",
   "name": "python",
   "nbconvert_exporter": "python",
   "pygments_lexer": "ipython3",
   "version": "3.8.8"
  }
 },
 "nbformat": 4,
 "nbformat_minor": 5
}
