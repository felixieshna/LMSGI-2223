{
 "cells": [
  {
   "cell_type": "markdown",
   "metadata": {},
   "source": [
    "1.-Función Max\n",
    "    Definir una función max() que tome como argumento dos números y devuelva el mayor de ellos. \n",
    "    (Es cierto que python tiene una función max() incorporada, pero hacerla nosotros mismos es un muy buen ejercicio.\n",
    "    \n",
    "    Realiza un programa que pruebe la función."
   ]
  },
  {
   "cell_type": "code",
   "execution_count": 37,
   "metadata": {},
   "outputs": [
    {
     "name": "stdout",
     "output_type": "stream",
     "text": [
      "10\n"
     ]
    }
   ],
   "source": [
    "# 1\n",
    "def mayorDe2(a,b):\n",
    "    if(a > b):\n",
    "        return a\n",
    "    if(b > a):\n",
    "        return b\n",
    "\n",
    "print(mayorDe2(10,6))"
   ]
  },
  {
   "attachments": {},
   "cell_type": "markdown",
   "metadata": {},
   "source": [
    "2.-Función Max() con 3 valores\n",
    "    Definir una función max_de_tres(), que tome tres números como argumentos y devuelva el mayor de ellos.\n",
    "    \n",
    "    Realiza un programa que pruebe la función."
   ]
  },
  {
   "cell_type": "code",
   "execution_count": 1,
   "metadata": {},
   "outputs": [
    {
     "name": "stdout",
     "output_type": "stream",
     "text": [
      "12\n"
     ]
    }
   ],
   "source": [
    "def mayorDe3(a,b,c):\n",
    "    if((a > b) and (a > c)):\n",
    "        return a\n",
    "    if((b > a) and (b > c)):\n",
    "        return b\n",
    "    if((c > a) and (c > b)):\n",
    "        return c\n",
    "\n",
    "print(mayorDe3(10,12,3))"
   ]
  },
  {
   "attachments": {},
   "cell_type": "markdown",
   "metadata": {},
   "source": [
    "3.Función Max() con N valores\n",
    "    Definir una función maximo_lista(), que tome una lista de valores como argumente y devuelva el mayor de ellos.\n",
    "    \n",
    "    Realiza un programa que pruebe la función"
   ]
  },
  {
   "cell_type": "code",
   "execution_count": 39,
   "metadata": {},
   "outputs": [
    {
     "name": "stdout",
     "output_type": "stream",
     "text": [
      "17\n"
     ]
    }
   ],
   "source": [
    "def maximoListaValores (valores):\n",
    "    mayor = valores [0]\n",
    "    for lista in range(1, len (valores)):\n",
    "        if valores[lista] > mayor:\n",
    "            mayor = valores[lista]\n",
    "    return mayor\n",
    "\n",
    "listaNumeros = [7,5,6,9,2,17]\n",
    "\n",
    "print(maximoListaValores(listaNumeros))"
   ]
  },
  {
   "attachments": {},
   "cell_type": "markdown",
   "metadata": {},
   "source": [
    "4.Función Longitud(cadena)\n",
    "    Definir una función longitud que se le pase una cadena como argumento y devuelva el número de elementos o longitud de la cadena. No usar la función intrínseca de python para el cálculo.\n",
    "    \n",
    "    Realiza un programa que pruebe la función"
   ]
  },
  {
   "cell_type": "code",
   "execution_count": 40,
   "metadata": {},
   "outputs": [
    {
     "name": "stdout",
     "output_type": "stream",
     "text": [
      "5\n"
     ]
    }
   ],
   "source": [
    "# 4 ejecucion\n",
    "def largoCadena (palabra):    \n",
    "    contador = 0    \n",
    "    for i in palabra:        \n",
    "        contador += 1    \n",
    "    return contador\n",
    "    \n",
    "print(largoCadena(\"felix\"))"
   ]
  },
  {
   "attachments": {},
   "cell_type": "markdown",
   "metadata": {},
   "source": [
    "5.Función EsVolca(caracter)\n",
    "    Definir una función que indique si una caracter pasado como parámetro es una vocal o no. Utiliza para ello listas.\n",
    "    \n",
    "    Realiza un programa que pruebe la función"
   ]
  },
  {
   "cell_type": "code",
   "execution_count": 49,
   "metadata": {},
   "outputs": [
    {
     "name": "stdout",
     "output_type": "stream",
     "text": [
      "True\n"
     ]
    }
   ],
   "source": [
    "def esVocal (c):\n",
    "    vocales = ['a','e','i','o','u']\n",
    "    \n",
    "    c = c.lower()\n",
    "    return c in vocales\n",
    "print (esVocal('a'))"
   ]
  },
  {
   "attachments": {},
   "cell_type": "markdown",
   "metadata": {},
   "source": [
    "6.-Sumar y multiplicar listas\n",
    "    Definir 2 funciones:\n",
    "    Función sumarListaNumeros(listaNumeros) => suma total\n",
    "    Función multiplicarListaNumeros(listaNumeros) => multiplicación total\n",
    "\t\n",
    "    Realiza un programa que pruebe la función, mostrando el resultado de la suma y la multiplicación utilizando interpolación de la siguiente forma:\n",
    "    “El resultado de la suma es X y de la multiplicación es Y”."
   ]
  },
  {
   "cell_type": "code",
   "execution_count": 42,
   "metadata": {},
   "outputs": [
    {
     "name": "stdout",
     "output_type": "stream",
     "text": [
      "15\n"
     ]
    }
   ],
   "source": [
    "# 6A\n",
    "def sumarListaNumeros(listaNumeros):\n",
    "    totalSuma = 0\n",
    "    for i in range(len(listaNumeros)):\n",
    "        totalSuma += listaNumeros[i]\n",
    "    return totalSuma\n",
    "\n",
    "print(sumarListaNumeros([1,2,3,4,5]))"
   ]
  },
  {
   "cell_type": "code",
   "execution_count": 43,
   "metadata": {},
   "outputs": [
    {
     "name": "stdout",
     "output_type": "stream",
     "text": [
      "120\n"
     ]
    }
   ],
   "source": [
    "# 6B\n",
    "def multiplicarListaNumeros(listaNumeros):\n",
    "    totalMultiplicacion = 1\n",
    "    for i in range(len(listaNumeros)):\n",
    "        totalMultiplicacion *= listaNumeros[i]\n",
    "    return totalMultiplicacion\n",
    "\n",
    "print(multiplicarListaNumeros([1,2,3,4,5]))"
   ]
  },
  {
   "attachments": {},
   "cell_type": "markdown",
   "metadata": {},
   "source": [
    "7.-Invertir cadena\n",
    "    Realiza una función inversa(cadena) que genere la inversa de una cadena. Utilizando para ello las funcionalidades de las listas. \t\n",
    "    \n",
    "    Realiza un programa que pruebe la función."
   ]
  },
  {
   "cell_type": "code",
   "execution_count": 1,
   "metadata": {},
   "outputs": [
    {
     "name": "stdout",
     "output_type": "stream",
     "text": [
      "aloh\n"
     ]
    }
   ],
   "source": [
    "# 7 \n",
    "def cadenaInversa(valor):\n",
    "  if valor == \"\":\n",
    "    return valor\n",
    "  else:\n",
    "    return cadenaInversa(valor[1:]) + valor[:1]\n",
    "\n",
    "print(cadenaInversa(\"hola\"))"
   ]
  },
  {
   "attachments": {},
   "cell_type": "markdown",
   "metadata": {},
   "source": [
    "8.-Generar N carácteres\n",
    "    Realiza una función generar_n_caracteres(num_veces,caracter) que tome un entero y devuelva el caracter multiplicado por n. Por ejemplo: generar_n_caracteres(5, \"x\") debería devolver \"xxxxx\".\n",
    "\n",
    "    Realiza un programa que pruebe la función."
   ]
  },
  {
   "cell_type": "code",
   "execution_count": 45,
   "metadata": {},
   "outputs": [],
   "source": [
    "# 8\n",
    "def generarAuto(num_veces,caracter):\n",
    "    \n",
    "    for i in range(num_veces):\n",
    "        print (caracter)\n",
    "\n",
    "print(generarAuto(4,'a'))"
   ]
  },
  {
   "attachments": {},
   "cell_type": "markdown",
   "metadata": {},
   "source": [
    "9.-Histograma\n",
    "    Definir una función histograma que tome una lista de números enteros e imprima un histograma en la pantalla. Ejemplo: histograma([4, 9, 7]) debería imprimir lo siguiente:\n",
    "    ++++\n",
    "    +++++++++\n",
    "    +++++++\n",
    "\n",
    "    Realiza un programa que pruebe la función."
   ]
  },
  {
   "cell_type": "code",
   "execution_count": 1,
   "metadata": {},
   "outputs": [
    {
     "name": "stdout",
     "output_type": "stream",
     "text": [
      "+\n",
      "++\n",
      "+\n",
      "+++++++\n",
      "+++\n"
     ]
    }
   ],
   "source": [
    "# 9\n",
    "def Histograma(listaDeNumeros):\n",
    "    LongitudCadena = len(listaDeNumeros)\n",
    "    repeticiones = 0\n",
    "    contador = \" \"\n",
    "    finalHistograma = False\n",
    "    posicionLista = 0\n",
    "    while(finalHistograma != True):\n",
    "        contador = \"\"\n",
    "        for i in range(0,listaDeNumeros[posicionLista]):\n",
    "            contador += \"+\" \n",
    "        print(str(contador))\n",
    "        posicionLista = posicionLista+1\n",
    "        repeticiones = repeticiones+1\n",
    "        if repeticiones == len(listaDeNumeros):\n",
    "            finalHistograma = True\n",
    "\n",
    "listaDeNumeros = [1,2,1,7,3]\n",
    "Histograma(listaDeNumeros)"
   ]
  },
  {
   "attachments": {},
   "cell_type": "markdown",
   "metadata": {},
   "source": [
    "10.-Cadenas mayores a 2 con inicio y fin iguales\n",
    "    Definir una función que cuente el nº de cadenas que cumplan:\n",
    "        a) donde la longitud mínima de cadena debe ser 2\n",
    "        b) el primer y último carácter sean iguales\n",
    "    Ejemplo: ['abc', 'xyz', 'aba', '1221'], devuelve la función: 2\n",
    "    \n",
    "    Realiza un programa que pruebe la función."
   ]
  },
  {
   "cell_type": "code",
   "execution_count": 7,
   "metadata": {},
   "outputs": [
    {
     "name": "stdout",
     "output_type": "stream",
     "text": [
      "2\n"
     ]
    }
   ],
   "source": [
    "# 10\n",
    "def CadenaMayoresDe2ConInicioYFinalIguales(lista):\n",
    "    contador = 0\n",
    "    for string in lista:\n",
    "        if len(string) >= 2 and string[0] == string[-1]:\n",
    "            contador += 1\n",
    "    return contador\n",
    "\n",
    "strings = ['abc', 'xyz', 'abbba', '1221']\n",
    "resultado = CadenaMayoresDe2ConInicioYFinalIguales(strings)\n",
    "print(resultado) \n"
   ]
  },
  {
   "attachments": {},
   "cell_type": "markdown",
   "metadata": {},
   "source": [
    "11.-Eliminar duplicados en lista\n",
    "    Definir una función que elimine los elementos duplicados de una lista, devolviendo otra lista sin los elementos duplicados. Pista (funcionalidad elemento contenido en lista)\n",
    "\n",
    "    Realiza un programa que pruebe la función."
   ]
  },
  {
   "cell_type": "code",
   "execution_count": 16,
   "metadata": {},
   "outputs": [
    {
     "name": "stdout",
     "output_type": "stream",
     "text": [
      "[1, 3, 4, 2, 5]\n"
     ]
    }
   ],
   "source": [
    "# 11\n",
    "def eliminarDuplicadosDeUnaLista(lista):\n",
    "    listaSinDuplicados=[] # necesitamos crear un array vacio para llenarlo \n",
    "    for item in lista:\n",
    "        if item not in listaSinDuplicados:\n",
    "            listaSinDuplicados.append(item)\n",
    "    return listaSinDuplicados\n",
    "\n",
    "listaDeCaracteres=[1,3,4,2,5,2,3,4]\n",
    "print(eliminarDuplicadosDeUnaLista(listaDeCaracteres))"
   ]
  },
  {
   "attachments": {},
   "cell_type": "markdown",
   "metadata": {},
   "source": [
    "12.-Primeros y últimos al cuadrado\n",
    "    Escribir una función que genera e imprime una lista de los primeros y últimos 5 elementos donde los valores son elevados al cuadrado. Generar los números entre 1 y 30 ambos incluidos. Imagen ejemplo\n",
    "\n",
    "    Realiza un programa que pruebe la función que genere los números entre 1 y 30 ambos inclusive, e imprima por pantalla la lista resultante."
   ]
  },
  {
   "cell_type": "code",
   "execution_count": 20,
   "metadata": {},
   "outputs": [
    {
     "name": "stdout",
     "output_type": "stream",
     "text": [
      "[1, 4, 9, 16, 25, 100, 121, 144, 169, 196]\n"
     ]
    }
   ],
   "source": [
    "# 12 \n",
    "# Este he necesitado copiarlo de internet porque no lo entendia\n",
    "def CuadradoDeUnaLista(lista):\n",
    "    listalLCuadrado = []\n",
    "    posicionLista = 0\n",
    "    for item in lista:\n",
    "        if posicionLista > 4 and posicionLista < (len(lista)-5):\n",
    "            posicionLista = posicionLista+1\n",
    "            continue\n",
    "        listalLCuadrado.append(item*item)\n",
    "        posicionLista = posicionLista+1\n",
    "    return listalLCuadrado\n",
    "\n",
    "listaDeCaracteres=[1,2,3,4,5,6,7,8,9,10,11,12,13,14]\n",
    "print(CuadradoDeUnaLista(listaDeCaracteres))"
   ]
  },
  {
   "attachments": {},
   "cell_type": "markdown",
   "metadata": {},
   "source": [
    "13.-Generar grupos de 5 elementos\n",
    "    Definir una función que genere grupos de 5 consecutivos números dentro de una lista y retorne una lista que contenga en cada posición las subslistas de 5 elementos\n",
    "    Ej: [1,2,3,4,5,6,7,8,9,10]  => [ [1,2,3,4,5], [6,7,8,9,10] ]\n",
    "    Imagen ejemplo\n",
    "\n",
    "Realiza un programa que pruebe la función.\n"
   ]
  },
  {
   "cell_type": "code",
   "execution_count": 29,
   "metadata": {},
   "outputs": [
    {
     "name": "stdout",
     "output_type": "stream",
     "text": [
      "[[1, 2, 3, 4, 5], [6, 7, 8, 9, 10], [11, 12, 13, 14, 15]]\n"
     ]
    }
   ],
   "source": [
    "# 13\n",
    "GenerarGruposDe5Elementos = [[5 * i + j for j in range(1, 6)] for i in range (3)]\n",
    "print(GenerarGruposDe5Elementos)"
   ]
  },
  {
   "attachments": {},
   "cell_type": "markdown",
   "metadata": {},
   "source": [
    "14.-Iterar sobre elementos de un diccionario\n",
    "    Definir programa para iterar sobre los elementos del siguiente diccionario \n",
    "    Equipo = {'Rafa':'Científico de datos', 'Pedro':'Arquitecto de datos', 'Javier':'Ingeniero de datos', 'Antonio':'Director'}\n",
    "Imprimiendo la siguiente salida:\n",
    "        Rafa - Científico de datos\n",
    "        Pedro - Arquitecto de datos\n",
    "        Javier - Ingeniero de datos\n",
    "        Antonio - Director\n"
   ]
  },
  {
   "cell_type": "code",
   "execution_count": 14,
   "metadata": {},
   "outputs": [],
   "source": [
    "# 14\n",
    "# este ejericcio no lo entiendo\n"
   ]
  },
  {
   "attachments": {},
   "cell_type": "markdown",
   "metadata": {},
   "source": [
    "15.-Concatenar diccionarios\n",
    "Definir una función para concatenar 2 diccionarios pasados como parámetros. Imagen ilustrativa\n",
    "Ejemplo diccionario: dic1={1:10, 2:20} dic2={3:30, 4:40}\n",
    "Experado resultado: {1: 10, 2: 20, 3: 30, 4: 40}\n",
    "\n",
    "Realiza un programa que pruebe la función.\n"
   ]
  },
  {
   "cell_type": "code",
   "execution_count": 12,
   "metadata": {},
   "outputs": [
    {
     "name": "stdout",
     "output_type": "stream",
     "text": [
      "{1: 10, 2: 20, 3: 30, 4: 40, 5: 50, 6: 60}\n"
     ]
    }
   ],
   "source": [
    "# 15\n",
    "def concatenar2diccionarios(diccionario1, diccionario2):\n",
    "    return {**diccionario1, **diccionario2}\n",
    "\n",
    "diccionario1 = {1:10, 2:20, 3:30}\n",
    "diccionario2 = {4:40, 5:50, 6:60}\n",
    "print(concatenar2diccionarios(diccionario1, diccionario2))\n"
   ]
  },
  {
   "attachments": {},
   "cell_type": "markdown",
   "metadata": {},
   "source": [
    "16.-Generar un diccionario\n",
    "Definir una función que tenga como parámetro N, siendo N el máximo numero del rango. La función debe generar un diccionario de la siguiente form:\n",
    "Generar números entre 1 y N.\n",
    "Generar diccionario con la siguiente estructura: {1:1*1,2: 2*2,... n: n*n}\n",
    "\n",
    "Ejemplo: n = 5\n",
    "Resultado esperado: {1: 1, 2: 4, 3: 9, 4: 16, 5: 25}\n"
   ]
  },
  {
   "cell_type": "code",
   "execution_count": 9,
   "metadata": {},
   "outputs": [
    {
     "name": "stdout",
     "output_type": "stream",
     "text": [
      "{1: 1, 2: 4, 3: 9, 4: 16, 5: 25, 6: 36, 7: 49}\n"
     ]
    }
   ],
   "source": [
    "# 16\n",
    "def generarDiccionarioQueCalculeNelevado2(N):\n",
    "    return {i: i*i for i in range(1, N+1)}\n",
    "\n",
    "N = 7\n",
    "print(generarDiccionarioQueCalculeNelevado2(N))\n"
   ]
  },
  {
   "attachments": {},
   "cell_type": "markdown",
   "metadata": {},
   "source": [
    "17.-Generar un diccionario de 2 listas\n",
    "    Definir una función que se le pase 2 listas como parámetros, y genere un diccionario resultante, donde la 1ª lista serán las claves y la 2 lista serán los varlores\n",
    "Ejemplo:\n",
    "    keys = ['red', 'green', 'blue']\n",
    "    values = ['#FF0000','#008000', '#0000FF']\n",
    "    Resultado esperado: {'red': '#FF0000', 'green': '#008000', 'blue': '#0000FF'}\n",
    "\n",
    "    Realiza un programa que pruebe la función."
   ]
  },
  {
   "cell_type": "code",
   "execution_count": 7,
   "metadata": {},
   "outputs": [
    {
     "name": "stdout",
     "output_type": "stream",
     "text": [
      "{'red': '#a111', 'green': '#a222', 'blue': '#a333'}\n"
     ]
    }
   ],
   "source": [
    "# 17\n",
    "def generarDiccionarioDe2Listas(keys, values):\n",
    "    return {keys[i]: values[i] for i in range(len(keys))}\n",
    "\n",
    "keys = ['red', 'green', 'blue']\n",
    "values = ['#a111','#a222', '#a333']\n",
    "print(generarDiccionarioDe2Listas(keys, values))\n"
   ]
  },
  {
   "attachments": {},
   "cell_type": "markdown",
   "metadata": {},
   "source": [
    "18.-Generar diccionario desde String\n",
    "    Definir una función que se le pase una cadena, y que genere un diccionario:\n",
    "    Claves (keys) son las letras de la cadena\n",
    "    Valores: nº veces que se repite cada letra en la cadena.\n",
    "\n",
    "\n",
    "    Ejemplo: 'w3resource'\n",
    "    Restulado Esperado: \n",
    "        {'w': 1, '3': 1, 'r': 2, 'e': 2, 's': 1, 'o': 1, 'u':1, 'c': 1}\n",
    "    \n",
    "    Realiza un programa que pruebe la función.\n"
   ]
  },
  {
   "cell_type": "code",
   "execution_count": 6,
   "metadata": {},
   "outputs": [
    {
     "name": "stdout",
     "output_type": "stream",
     "text": [
      "{'a': 3, 'h': 2, 's': 1, 'e': 2, 'd': 1}\n"
     ]
    }
   ],
   "source": [
    "# 18\n",
    "def GenerarDiccionarioDesdeString(String):\n",
    "    array = {}\n",
    "    for letter in String:\n",
    "        array[letter] = array.get(letter, 0) + 1\n",
    "    return array\n",
    "\n",
    "String = 'aaahshede'\n",
    "print(GenerarDiccionarioDesdeString(String))\n"
   ]
  },
  {
   "attachments": {},
   "cell_type": "markdown",
   "metadata": {},
   "source": [
    "19.-Filtrar diccionarios sobre valor\n",
    "    Definir una función que filter un diccionario sobre el valor de sus elementos. Debe devolver el mismo diccionario, eliminado las claves de los valores que no cumplen el criterio.\n",
    "    Ejemplo: Mayor que 174 cm.\n",
    "    Ejemplo:  {'Alonso': 175, 'Juan': 180, 'Andres': 165, 'Ramon': 190}\n",
    "    Restulado Esperado: {'Alonso': 175, 'Juan': 180, Ramon': 190}\n",
    "\n",
    "    Realiza un programa que pruebe la función.\n",
    "\n",
    "\n"
   ]
  },
  {
   "cell_type": "code",
   "execution_count": 3,
   "metadata": {},
   "outputs": [
    {
     "name": "stdout",
     "output_type": "stream",
     "text": [
      "{'Juan': 180, 'Ramon': 190}\n"
     ]
    }
   ],
   "source": [
    "# 19\n",
    "def filtrarDiccionarios(diccionario, valor):\n",
    "    return {k: v for k, v in diccionario.items() if v > valor}\n",
    "\n",
    "diccionario = {'Alonso': 175, 'Juan': 180, 'Andres': 165, 'Ramon': 190}\n",
    "resultado = filtrarDiccionarios(diccionario, 176)\n",
    "\n",
    "\n",
    "\n",
    "print(resultado)"
   ]
  }
 ],
 "metadata": {
  "kernelspec": {
   "display_name": "Python 3",
   "language": "python",
   "name": "python3"
  },
  "language_info": {
   "codemirror_mode": {
    "name": "ipython",
    "version": 3
   },
   "file_extension": ".py",
   "mimetype": "text/x-python",
   "name": "python",
   "nbconvert_exporter": "python",
   "pygments_lexer": "ipython3",
   "version": "3.10.9"
  },
  "orig_nbformat": 4,
  "vscode": {
   "interpreter": {
    "hash": "66dee7b173072bb5060091edba83dcc2ab97e09c8fa88b7544431175c9579bff"
   }
  }
 },
 "nbformat": 4,
 "nbformat_minor": 2
}
