{
 "cells": [
  {
   "cell_type": "markdown",
   "id": "21f4798d",
   "metadata": {},
   "source": [
    "## Colecciones\n",
    "\n",
    "Una colección permite agrupar varios objetos bajo un mismo nombre. Por ejemplo, si necesitamos almacenar en nuestro programa los nombres de los alumnos de un curso de programación, será más conveniente ubicarlos a todos dentro de una misma colección de nombre alumnos, en lugar de crear los objetos alumno1, alumno2, etc.\n",
    "\n",
    "En Python existen tres colecciones básicas, a saber: las listas, las tuplas y los diccionarios.\n",
    "\n",
    "### Listas\n",
    "Una lista es un conjunto ordenado de objetos. Por objetos entendemos cualquiera de los tipos de dato ya mencionados, incluso otras listas.\n",
    "\n",
    "Para crear una lista, especificamos sus elementos entre corchetes y separados por comas."
   ]
  },
  {
   "cell_type": "code",
   "execution_count": 2,
   "id": "2b88274c",
   "metadata": {},
   "outputs": [],
   "source": [
    "lenguajes = [\"Python\", \"Java\", \"C\", \"C++\"]"
   ]
  },
  {
   "cell_type": "markdown",
   "id": "da4919e3",
   "metadata": {},
   "source": [
    "Dado que se trata de una colección ordenada, accedemos a cada uno de los elementos a partir de su posición, comenzando desde el 0."
   ]
  },
  {
   "cell_type": "code",
   "execution_count": 2,
   "id": "b3f17816",
   "metadata": {},
   "outputs": [
    {
     "data": {
      "text/plain": [
       "'Python'"
      ]
     },
     "execution_count": 2,
     "metadata": {},
     "output_type": "execute_result"
    }
   ],
   "source": [
    "lenguajes[0]"
   ]
  },
  {
   "cell_type": "code",
   "execution_count": 3,
   "id": "be5ae657",
   "metadata": {},
   "outputs": [
    {
     "data": {
      "text/plain": [
       "'Java'"
      ]
     },
     "execution_count": 3,
     "metadata": {},
     "output_type": "execute_result"
    }
   ],
   "source": [
    "lenguajes[1]"
   ]
  },
  {
   "cell_type": "markdown",
   "id": "d5c27605",
   "metadata": {},
   "source": [
    "(En Python, las cadenas de caracteres pueden estar formadas tanto por comillas dobles como por comillas simples).\n",
    "\n",
    "La posición de un elemento, también conocida como índice, aumenta de izquierda a derecha cuando éste es positivo. Indicando un número negativo, los elementos se obtienen de derecha a izquierda."
   ]
  },
  {
   "cell_type": "code",
   "execution_count": 1,
   "id": "3adb16a8",
   "metadata": {},
   "outputs": [
    {
     "ename": "NameError",
     "evalue": "name 'lenguajes' is not defined",
     "output_type": "error",
     "traceback": [
      "\u001b[0;31m---------------------------------------------------------------------------\u001b[0m",
      "\u001b[0;31mNameError\u001b[0m                                 Traceback (most recent call last)",
      "\u001b[0;32m<ipython-input-1-04ccb6f17b30>\u001b[0m in \u001b[0;36m<module>\u001b[0;34m\u001b[0m\n\u001b[0;32m----> 1\u001b[0;31m \u001b[0mlenguajes\u001b[0m\u001b[0;34m[\u001b[0m\u001b[0;34m-\u001b[0m\u001b[0;36m1\u001b[0m\u001b[0;34m]\u001b[0m\u001b[0;34m\u001b[0m\u001b[0;34m\u001b[0m\u001b[0m\n\u001b[0m",
      "\u001b[0;31mNameError\u001b[0m: name 'lenguajes' is not defined"
     ]
    }
   ],
   "source": [
    "lenguajes[-1]"
   ]
  },
  {
   "cell_type": "code",
   "execution_count": 5,
   "id": "f23b1b3d",
   "metadata": {},
   "outputs": [
    {
     "data": {
      "text/plain": [
       "'C'"
      ]
     },
     "execution_count": 5,
     "metadata": {},
     "output_type": "execute_result"
    }
   ],
   "source": [
    "lenguajes[-2]"
   ]
  },
  {
   "cell_type": "markdown",
   "id": "98483898",
   "metadata": {},
   "source": [
    "Para cambiar un elemento, combinamos la nomenclatura descrita con la asignación."
   ]
  },
  {
   "cell_type": "code",
   "execution_count": 8,
   "id": "0f1e9b52",
   "metadata": {},
   "outputs": [
    {
     "data": {
      "text/plain": [
       "['Python', 'Rust', 'C', 'C++']"
      ]
     },
     "execution_count": 8,
     "metadata": {},
     "output_type": "execute_result"
    }
   ],
   "source": [
    "lenguajes[1] = \"Rust\"\n",
    "lenguajes"
   ]
  },
  {
   "cell_type": "markdown",
   "id": "d73108f9",
   "metadata": {},
   "source": [
    "Nótese que cuando un elemento es eliminado, a excepción del último, todos los que lo suceden se corren una posición hacia la izquierda.\n",
    "\n",
    "La operación inversa es la de insertar un elemento en una posición determinada, desplazando el resto que le sucede una posición hacia la derecha, vía el método (volveremos sobre este concepto más adelante) insert()."
   ]
  },
  {
   "cell_type": "code",
   "execution_count": 9,
   "id": "8caa8832",
   "metadata": {},
   "outputs": [
    {
     "data": {
      "text/plain": [
       "['Python', 'Elixir', 'Rust', 'C', 'C++']"
      ]
     },
     "execution_count": 9,
     "metadata": {},
     "output_type": "execute_result"
    }
   ],
   "source": [
    "lenguajes.insert(1, \"Elixir\")\n",
    "lenguajes"
   ]
  },
  {
   "cell_type": "markdown",
   "id": "6da998cd",
   "metadata": {},
   "source": [
    "Por último, la operación más común es la de agregar un elemento al final de la lista. Para ello empleamos append()."
   ]
  },
  {
   "cell_type": "code",
   "execution_count": 10,
   "id": "558e0d1d",
   "metadata": {},
   "outputs": [
    {
     "data": {
      "text/plain": [
       "['Python', 'Elixir', 'Rust', 'C', 'C++', 'Haskell']"
      ]
     },
     "execution_count": 10,
     "metadata": {},
     "output_type": "execute_result"
    }
   ],
   "source": [
    "lenguajes.append(\"Haskell\")\n",
    "lenguajes"
   ]
  },
  {
   "cell_type": "markdown",
   "id": "67247d64",
   "metadata": {},
   "source": [
    "¡Genial! Baste por el momento con lo que se ha dicho sobre las listas. Conoceremos más propiedades en la sección de Slicing.\n",
    "\n",
    "### Tuplas\n",
    "Las tuplas, al igual que las listas, son colecciones ordenadas. No obstante, a diferencia de éstas, son inmutables. Es decir, una vez asignados los elementos, no pueden ser alterados. En términos funcionales, podría decirse que las tuplas son un subconjunto de las listas, por cuanto soportan las operaciones con índices para acceder a sus elementos, pero no así las de asignación."
   ]
  },
  {
   "cell_type": "code",
   "execution_count": 11,
   "id": "00141152",
   "metadata": {},
   "outputs": [],
   "source": [
    "lenguajes = (\"Python\", \"Java\", \"C\", \"C++\")"
   ]
  },
  {
   "cell_type": "code",
   "execution_count": 12,
   "id": "9e0d2c87",
   "metadata": {},
   "outputs": [
    {
     "data": {
      "text/plain": [
       "'Python'"
      ]
     },
     "execution_count": 12,
     "metadata": {},
     "output_type": "execute_result"
    }
   ],
   "source": [
    "lenguajes[0]"
   ]
  },
  {
   "cell_type": "code",
   "execution_count": 13,
   "id": "6a5026b2",
   "metadata": {},
   "outputs": [
    {
     "data": {
      "text/plain": [
       "'C++'"
      ]
     },
     "execution_count": 13,
     "metadata": {},
     "output_type": "execute_result"
    }
   ],
   "source": [
    "lenguajes[-1]"
   ]
  },
  {
   "cell_type": "markdown",
   "id": "1427cff1",
   "metadata": {},
   "source": [
    "Un intento por remover un elemento de una tupla o asignarle un nuevo valor arrojará un error.\n",
    "\n",
    "Ahora bien, si las listas hacen todo lo que hace una tupla, ¿para qué, entonces, existen las tuplas? Sencillamente porque una tupla, justamente por carecer de todas las funcionalidades de mutación de elementos, es un objeto más liviano y que se crea más rápido.\n",
    "\n",
    "La función del programador será la de dirimir si para una determinada colección ordenada de objetos le conviene más una lista o una tupla, según sus elementos deban ser alterados en el futuro o no.\n",
    "\n",
    "### Diccionarios\n",
    "Los diccionarios, a diferencia de las listas y las tuplas, son colecciones no ordenadas de objetos. Además, sus elementos tienen una particularidad: siempre conforman un par clave-valor. Es decir, cuando añadimos un valor a un diccionario, se le asigna una clave única con la que luego se podrá acceder a él (pues la posición ya no es un determinante).\n",
    "\n",
    "Para crear un diccionario, indicamos los pares clave-valor separados por comas y estos, a su vez, separados por dos puntos.\n",
    "\n"
   ]
  },
  {
   "cell_type": "code",
   "execution_count": 20,
   "id": "015a977a",
   "metadata": {},
   "outputs": [],
   "source": [
    "d = {\"Python\": 1991, \"C\": 1972, \"Java\": 1996}"
   ]
  },
  {
   "cell_type": "markdown",
   "id": "b27cc4fa",
   "metadata": {},
   "source": [
    "En este ejemplo, creamos un diccionario con tres elementos, cuyas claves son \"Python\", \"C\" y \"Java\" y sus valores los años en los que fueron creados, a saber: 1991, 1972 y 1996, respectivamente.\n",
    "\n",
    "Para acceder a cualquiera de los valores, debemos indicar su clave entre corchetes."
   ]
  },
  {
   "cell_type": "code",
   "execution_count": 21,
   "id": "b685c43a",
   "metadata": {},
   "outputs": [
    {
     "data": {
      "text/plain": [
       "1996"
      ]
     },
     "execution_count": 21,
     "metadata": {},
     "output_type": "execute_result"
    }
   ],
   "source": [
    "d[\"Java\"]"
   ]
  },
  {
   "cell_type": "markdown",
   "id": "d4065635",
   "metadata": {},
   "source": [
    "Las operaciones de añadir, modificar o eliminar valores son similares a las de las listas."
   ]
  },
  {
   "cell_type": "code",
   "execution_count": 22,
   "id": "2b013814",
   "metadata": {},
   "outputs": [
    {
     "data": {
      "text/plain": [
       "{'Python': 3000, 'Java': 1996, 'Elixir': 2011}"
      ]
     },
     "execution_count": 22,
     "metadata": {},
     "output_type": "execute_result"
    }
   ],
   "source": [
    "# Añadir un par clave/valor.\n",
    "d[\"Elixir\"] = 2011\n",
    "# Modificar uno existente.\n",
    "d[\"Python\"] = 3000\n",
    "# Eliminar.\n",
    "del d[\"C\"]\n",
    "d"
   ]
  },
  {
   "cell_type": "markdown",
   "id": "5fcc46b3",
   "metadata": {},
   "source": [
    "Las claves típicamente serán números o cadenas, aunque bien podrían ser de cualquier otro tipo de dato inmutable (todos los vistos hasta ahora son inmutables, a excepción de las listas y los diccionarios). Además, nunca puede haber claves repetidas, ya que actúan como identificadores únicos para un valor determinado. Los valores, en cambio, pueden ser de cualquier tipo de dato, ¡incluyendo otros diccionarios!\n",
    "\n",
    "### Operaciones comunes\n",
    "Hemos visto cómo del se aplica tanto a listas como a diccionarios. Existen varias funciones que operan sobre distintos tipos de colecciones. Por ejemplo, la función incorporada len() retorna el número de elementos en una colección."
   ]
  },
  {
   "cell_type": "code",
   "execution_count": 24,
   "id": "67ced3c9",
   "metadata": {},
   "outputs": [
    {
     "data": {
      "text/plain": [
       "4"
      ]
     },
     "execution_count": 24,
     "metadata": {},
     "output_type": "execute_result"
    }
   ],
   "source": [
    "len([1, 2, 3, 4])"
   ]
  },
  {
   "cell_type": "code",
   "execution_count": 25,
   "id": "71190f5a",
   "metadata": {},
   "outputs": [
    {
     "data": {
      "text/plain": [
       "2"
      ]
     },
     "execution_count": 25,
     "metadata": {},
     "output_type": "execute_result"
    }
   ],
   "source": [
    "len({\"Python\": 1991, \"C\": 1972})"
   ]
  },
  {
   "cell_type": "code",
   "execution_count": 26,
   "id": "66bec28b",
   "metadata": {},
   "outputs": [
    {
     "data": {
      "text/plain": [
       "1"
      ]
     },
     "execution_count": 26,
     "metadata": {},
     "output_type": "execute_result"
    }
   ],
   "source": [
    "len((\"¡Hola, mundo!\",))"
   ]
  },
  {
   "cell_type": "markdown",
   "id": "22e12bc2",
   "metadata": {},
   "source": [
    "En la tercera llamada pasamos como argumento una tupla que contiene un solo elemento (una cadena). No obstante, dado que para definir tuplas se emplean paréntesis, es necesario añadir una coma al final para que Python entienda que se trata de una tupla en lugar de una expresión (los paréntesis también son utilizados para agrupar expresiones, como en matemática).\n",
    "\n",
    "Una cadena es, en rigor, una colección de caracteres. Por ello también soporta las operaciones de acceso a sus elementos (¡no así las de asignación, ya que son inmutables!)."
   ]
  },
  {
   "cell_type": "code",
   "execution_count": 32,
   "id": "4234c6f1",
   "metadata": {},
   "outputs": [
    {
     "data": {
      "text/plain": [
       "'a'"
      ]
     },
     "execution_count": 32,
     "metadata": {},
     "output_type": "execute_result"
    }
   ],
   "source": [
    "s = \"¡Hola, mundo!\"\n",
    "s[4]"
   ]
  },
  {
   "cell_type": "code",
   "execution_count": 34,
   "id": "2cf2306e",
   "metadata": {},
   "outputs": [
    {
     "data": {
      "text/plain": [
       "13"
      ]
     },
     "execution_count": 34,
     "metadata": {},
     "output_type": "execute_result"
    }
   ],
   "source": [
    "len(s)"
   ]
  },
  {
   "cell_type": "markdown",
   "id": "3e709369",
   "metadata": {},
   "source": [
    "Por último, para saber si un elemento está dentro de una colección, empleamos la palabra reservada in."
   ]
  },
  {
   "cell_type": "code",
   "execution_count": 35,
   "id": "f73b3a59",
   "metadata": {},
   "outputs": [
    {
     "data": {
      "text/plain": [
       "False"
      ]
     },
     "execution_count": 35,
     "metadata": {},
     "output_type": "execute_result"
    }
   ],
   "source": [
    "10 in (1, 2, 3, 4)"
   ]
  },
  {
   "cell_type": "code",
   "execution_count": 36,
   "id": "79cbbb2c",
   "metadata": {},
   "outputs": [
    {
     "data": {
      "text/plain": [
       "True"
      ]
     },
     "execution_count": 36,
     "metadata": {},
     "output_type": "execute_result"
    }
   ],
   "source": [
    "\"mundo\" in \"¡Hola, mundo!\""
   ]
  },
  {
   "cell_type": "code",
   "execution_count": 37,
   "id": "f2d8660a",
   "metadata": {},
   "outputs": [
    {
     "data": {
      "text/plain": [
       "True"
      ]
     },
     "execution_count": 37,
     "metadata": {},
     "output_type": "execute_result"
    }
   ],
   "source": [
    "\"Python\" in {\"Python\": 1991, \"C\": 1972}"
   ]
  },
  {
   "cell_type": "code",
   "execution_count": null,
   "id": "67b363ed",
   "metadata": {},
   "outputs": [],
   "source": []
  }
 ],
 "metadata": {
  "kernelspec": {
   "display_name": "Python 3",
   "language": "python",
   "name": "python3"
  },
  "language_info": {
   "codemirror_mode": {
    "name": "ipython",
    "version": 3
   },
   "file_extension": ".py",
   "mimetype": "text/x-python",
   "name": "python",
   "nbconvert_exporter": "python",
   "pygments_lexer": "ipython3",
   "version": "3.8.8"
  }
 },
 "nbformat": 4,
 "nbformat_minor": 5
}
